{
  "nbformat": 4,
  "nbformat_minor": 0,
  "metadata": {
    "colab": {
      "provenance": []
    },
    "kernelspec": {
      "name": "python3",
      "display_name": "Python 3"
    },
    "language_info": {
      "name": "python"
    }
  },
  "cells": [
    {
      "cell_type": "code",
      "execution_count": null,
      "metadata": {
        "colab": {
          "base_uri": "https://localhost:8080/"
        },
        "id": "FJtGP--ARg8Z",
        "outputId": "3b80c83f-9d7b-445b-caac-a75958307bac"
      },
      "outputs": [
        {
          "output_type": "stream",
          "name": "stdout",
          "text": [
            "\u001b[2K     \u001b[90m━━━━━━━━━━━━━━━━━━━━━━━━━━━━━━━━━━━━━━━━\u001b[0m \u001b[32m324.1/324.1 kB\u001b[0m \u001b[31m4.8 MB/s\u001b[0m eta \u001b[36m0:00:00\u001b[0m\n",
            "\u001b[2K     \u001b[90m━━━━━━━━━━━━━━━━━━━━━━━━━━━━━━━━━━━━━━━━\u001b[0m \u001b[32m973.5/973.5 kB\u001b[0m \u001b[31m10.1 MB/s\u001b[0m eta \u001b[36m0:00:00\u001b[0m\n",
            "\u001b[2K     \u001b[90m━━━━━━━━━━━━━━━━━━━━━━━━━━━━━━━━━━━━━━━━\u001b[0m \u001b[32m1.1/1.1 MB\u001b[0m \u001b[31m14.3 MB/s\u001b[0m eta \u001b[36m0:00:00\u001b[0m\n",
            "\u001b[2K     \u001b[90m━━━━━━━━━━━━━━━━━━━━━━━━━━━━━━━━━━━━━━━━\u001b[0m \u001b[32m526.8/526.8 kB\u001b[0m \u001b[31m16.4 MB/s\u001b[0m eta \u001b[36m0:00:00\u001b[0m\n",
            "\u001b[2K     \u001b[90m━━━━━━━━━━━━━━━━━━━━━━━━━━━━━━━━━━━━━━━━\u001b[0m \u001b[32m2.1/2.1 MB\u001b[0m \u001b[31m21.5 MB/s\u001b[0m eta \u001b[36m0:00:00\u001b[0m\n",
            "\u001b[2K     \u001b[90m━━━━━━━━━━━━━━━━━━━━━━━━━━━━━━━━━━━━━━━━\u001b[0m \u001b[32m75.6/75.6 kB\u001b[0m \u001b[31m5.8 MB/s\u001b[0m eta \u001b[36m0:00:00\u001b[0m\n",
            "\u001b[2K     \u001b[90m━━━━━━━━━━━━━━━━━━━━━━━━━━━━━━━━━━━━━━━━\u001b[0m \u001b[32m310.2/310.2 kB\u001b[0m \u001b[31m10.7 MB/s\u001b[0m eta \u001b[36m0:00:00\u001b[0m\n",
            "\u001b[2K     \u001b[90m━━━━━━━━━━━━━━━━━━━━━━━━━━━━━━━━━━━━━━━━\u001b[0m \u001b[32m124.4/124.4 kB\u001b[0m \u001b[31m4.4 MB/s\u001b[0m eta \u001b[36m0:00:00\u001b[0m\n",
            "\u001b[2K     \u001b[90m━━━━━━━━━━━━━━━━━━━━━━━━━━━━━━━━━━━━━━━━\u001b[0m \u001b[32m2.4/2.4 MB\u001b[0m \u001b[31m23.6 MB/s\u001b[0m eta \u001b[36m0:00:00\u001b[0m\n",
            "\u001b[2K     \u001b[90m━━━━━━━━━━━━━━━━━━━━━━━━━━━━━━━━━━━━━━━━\u001b[0m \u001b[32m92.0/92.0 kB\u001b[0m \u001b[31m2.5 MB/s\u001b[0m eta \u001b[36m0:00:00\u001b[0m\n",
            "\u001b[2K     \u001b[90m━━━━━━━━━━━━━━━━━━━━━━━━━━━━━━━━━━━━━━━━\u001b[0m \u001b[32m62.4/62.4 kB\u001b[0m \u001b[31m3.8 MB/s\u001b[0m eta \u001b[36m0:00:00\u001b[0m\n",
            "\u001b[2K     \u001b[90m━━━━━━━━━━━━━━━━━━━━━━━━━━━━━━━━━━━━━━━━\u001b[0m \u001b[32m41.3/41.3 kB\u001b[0m \u001b[31m1.7 MB/s\u001b[0m eta \u001b[36m0:00:00\u001b[0m\n",
            "\u001b[2K     \u001b[90m━━━━━━━━━━━━━━━━━━━━━━━━━━━━━━━━━━━━━━━━\u001b[0m \u001b[32m6.8/6.8 MB\u001b[0m \u001b[31m34.5 MB/s\u001b[0m eta \u001b[36m0:00:00\u001b[0m\n",
            "\u001b[2K     \u001b[90m━━━━━━━━━━━━━━━━━━━━━━━━━━━━━━━━━━━━━━━━\u001b[0m \u001b[32m59.9/59.9 kB\u001b[0m \u001b[31m4.7 MB/s\u001b[0m eta \u001b[36m0:00:00\u001b[0m\n",
            "\u001b[2K     \u001b[90m━━━━━━━━━━━━━━━━━━━━━━━━━━━━━━━━━━━━━━━━\u001b[0m \u001b[32m107.0/107.0 kB\u001b[0m \u001b[31m5.9 MB/s\u001b[0m eta \u001b[36m0:00:00\u001b[0m\n",
            "\u001b[2K     \u001b[90m━━━━━━━━━━━━━━━━━━━━━━━━━━━━━━━━━━━━━━━━\u001b[0m \u001b[32m67.3/67.3 kB\u001b[0m \u001b[31m4.7 MB/s\u001b[0m eta \u001b[36m0:00:00\u001b[0m\n",
            "\u001b[?25h  Installing build dependencies ... \u001b[?25l\u001b[?25hdone\n",
            "  Getting requirements to build wheel ... \u001b[?25l\u001b[?25hdone\n",
            "  Preparing metadata (pyproject.toml) ... \u001b[?25l\u001b[?25hdone\n",
            "\u001b[2K     \u001b[90m━━━━━━━━━━━━━━━━━━━━━━━━━━━━━━━━━━━━━━━━\u001b[0m \u001b[32m283.7/283.7 kB\u001b[0m \u001b[31m26.9 MB/s\u001b[0m eta \u001b[36m0:00:00\u001b[0m\n",
            "\u001b[2K     \u001b[90m━━━━━━━━━━━━━━━━━━━━━━━━━━━━━━━━━━━━━━━━\u001b[0m \u001b[32m1.6/1.6 MB\u001b[0m \u001b[31m53.5 MB/s\u001b[0m eta \u001b[36m0:00:00\u001b[0m\n",
            "\u001b[2K     \u001b[90m━━━━━━━━━━━━━━━━━━━━━━━━━━━━━━━━━━━━━━━━\u001b[0m \u001b[32m67.6/67.6 kB\u001b[0m \u001b[31m8.1 MB/s\u001b[0m eta \u001b[36m0:00:00\u001b[0m\n",
            "\u001b[2K     \u001b[90m━━━━━━━━━━━━━━━━━━━━━━━━━━━━━━━━━━━━━━━━\u001b[0m \u001b[32m142.5/142.5 kB\u001b[0m \u001b[31m14.2 MB/s\u001b[0m eta \u001b[36m0:00:00\u001b[0m\n",
            "\u001b[2K     \u001b[90m━━━━━━━━━━━━━━━━━━━━━━━━━━━━━━━━━━━━━━━━\u001b[0m \u001b[32m49.3/49.3 kB\u001b[0m \u001b[31m5.7 MB/s\u001b[0m eta \u001b[36m0:00:00\u001b[0m\n",
            "\u001b[2K     \u001b[90m━━━━━━━━━━━━━━━━━━━━━━━━━━━━━━━━━━━━━━━━\u001b[0m \u001b[32m71.9/71.9 kB\u001b[0m \u001b[31m7.7 MB/s\u001b[0m eta \u001b[36m0:00:00\u001b[0m\n",
            "\u001b[2K     \u001b[90m━━━━━━━━━━━━━━━━━━━━━━━━━━━━━━━━━━━━━━━━\u001b[0m \u001b[32m53.6/53.6 kB\u001b[0m \u001b[31m5.9 MB/s\u001b[0m eta \u001b[36m0:00:00\u001b[0m\n",
            "\u001b[2K     \u001b[90m━━━━━━━━━━━━━━━━━━━━━━━━━━━━━━━━━━━━━━━━\u001b[0m \u001b[32m77.9/77.9 kB\u001b[0m \u001b[31m8.8 MB/s\u001b[0m eta \u001b[36m0:00:00\u001b[0m\n",
            "\u001b[2K     \u001b[90m━━━━━━━━━━━━━━━━━━━━━━━━━━━━━━━━━━━━━━━━\u001b[0m \u001b[32m58.3/58.3 kB\u001b[0m \u001b[31m7.2 MB/s\u001b[0m eta \u001b[36m0:00:00\u001b[0m\n",
            "\u001b[2K     \u001b[90m━━━━━━━━━━━━━━━━━━━━━━━━━━━━━━━━━━━━━━━━\u001b[0m \u001b[32m53.0/53.0 kB\u001b[0m \u001b[31m6.2 MB/s\u001b[0m eta \u001b[36m0:00:00\u001b[0m\n",
            "\u001b[2K     \u001b[90m━━━━━━━━━━━━━━━━━━━━━━━━━━━━━━━━━━━━━━━━\u001b[0m \u001b[32m46.0/46.0 kB\u001b[0m \u001b[31m5.6 MB/s\u001b[0m eta \u001b[36m0:00:00\u001b[0m\n",
            "\u001b[2K     \u001b[90m━━━━━━━━━━━━━━━━━━━━━━━━━━━━━━━━━━━━━━━━\u001b[0m \u001b[32m52.5/52.5 kB\u001b[0m \u001b[31m6.4 MB/s\u001b[0m eta \u001b[36m0:00:00\u001b[0m\n",
            "\u001b[2K     \u001b[90m━━━━━━━━━━━━━━━━━━━━━━━━━━━━━━━━━━━━━━━━\u001b[0m \u001b[32m130.5/130.5 kB\u001b[0m \u001b[31m13.2 MB/s\u001b[0m eta \u001b[36m0:00:00\u001b[0m\n",
            "\u001b[2K     \u001b[90m━━━━━━━━━━━━━━━━━━━━━━━━━━━━━━━━━━━━━━━━\u001b[0m \u001b[32m341.4/341.4 kB\u001b[0m \u001b[31m33.4 MB/s\u001b[0m eta \u001b[36m0:00:00\u001b[0m\n",
            "\u001b[2K     \u001b[90m━━━━━━━━━━━━━━━━━━━━━━━━━━━━━━━━━━━━━━━━\u001b[0m \u001b[32m3.4/3.4 MB\u001b[0m \u001b[31m68.9 MB/s\u001b[0m eta \u001b[36m0:00:00\u001b[0m\n",
            "\u001b[2K     \u001b[90m━━━━━━━━━━━━━━━━━━━━━━━━━━━━━━━━━━━━━━━━\u001b[0m \u001b[32m1.2/1.2 MB\u001b[0m \u001b[31m67.4 MB/s\u001b[0m eta \u001b[36m0:00:00\u001b[0m\n",
            "\u001b[2K     \u001b[90m━━━━━━━━━━━━━━━━━━━━━━━━━━━━━━━━━━━━━━━━\u001b[0m \u001b[32m130.2/130.2 kB\u001b[0m \u001b[31m15.7 MB/s\u001b[0m eta \u001b[36m0:00:00\u001b[0m\n",
            "\u001b[2K     \u001b[90m━━━━━━━━━━━━━━━━━━━━━━━━━━━━━━━━━━━━━━━━\u001b[0m \u001b[32m307.7/307.7 kB\u001b[0m \u001b[31m33.0 MB/s\u001b[0m eta \u001b[36m0:00:00\u001b[0m\n",
            "\u001b[2K     \u001b[90m━━━━━━━━━━━━━━━━━━━━━━━━━━━━━━━━━━━━━━━━\u001b[0m \u001b[32m47.2/47.2 kB\u001b[0m \u001b[31m5.5 MB/s\u001b[0m eta \u001b[36m0:00:00\u001b[0m\n",
            "\u001b[2K     \u001b[90m━━━━━━━━━━━━━━━━━━━━━━━━━━━━━━━━━━━━━━━━\u001b[0m \u001b[32m86.8/86.8 kB\u001b[0m \u001b[31m9.8 MB/s\u001b[0m eta \u001b[36m0:00:00\u001b[0m\n",
            "\u001b[?25h  Building wheel for pypika (pyproject.toml) ... \u001b[?25l\u001b[?25hdone\n",
            "\u001b[31mERROR: pip's dependency resolver does not currently take into account all the packages that are installed. This behaviour is the source of the following dependency conflicts.\n",
            "spacy 3.7.4 requires typer<0.10.0,>=0.3.0, but you have typer 0.12.3 which is incompatible.\n",
            "weasel 0.3.4 requires typer<0.10.0,>=0.3.0, but you have typer 0.12.3 which is incompatible.\u001b[0m\u001b[31m\n",
            "\u001b[0m"
          ]
        }
      ],
      "source": [
        "!pip install --upgrade --quiet openai langchain langchainhub tiktoken chromadb langchain-community langchain-openai"
      ]
    },
    {
      "cell_type": "code",
      "source": [
        "# Set OpenAI API Key as an environment variable\n",
        "import os\n",
        "os.environ[\"OPENAI_API_KEY\"] = \"sk-proj-toMRbOoAEksbB6zhlpJET3BlbkFJtEwHJFoEPmPGMf6D9YU0\""
      ],
      "metadata": {
        "id": "p_wpiWn0RnzB"
      },
      "execution_count": null,
      "outputs": []
    },
    {
      "cell_type": "code",
      "source": [
        "# Import the required modules\n",
        "import bs4\n",
        "from langchain_community.document_loaders import WebBaseLoader\n",
        "from langchain.text_splitter import RecursiveCharacterTextSplitter\n",
        "from langchain.embeddings.openai import OpenAIEmbeddings\n",
        "from langchain.vectorstores import Chroma\n",
        "from langchain_openai import ChatOpenAI\n",
        "from langchain.chat_models import ChatOpenAI\n",
        "from langchain.chains import RetrievalQA, ConversationalRetrievalChain\n",
        "from langchain_core.output_parsers import StrOutputParser\n",
        "from langchain_core.runnables import RunnablePassthrough"
      ],
      "metadata": {
        "id": "oQ1B9MzyRpRs"
      },
      "execution_count": null,
      "outputs": []
    },
    {
      "cell_type": "markdown",
      "source": [
        "(1) WebBaseLoader() 를 이용해서 웹사이트 문서 로딩하기"
      ],
      "metadata": {
        "id": "7j1xwNwZSL36"
      }
    },
    {
      "cell_type": "code",
      "source": [
        "# Define basic web pages to load\n",
        "basic_web_loader = WebBaseLoader(\n",
        "    web_paths=(\"https://artsandculture.google.com/asset/self-portrait/9gFw_1Vou2CkwQ\", # Self-Portrait\n",
        "               \"https://artsandculture.google.com/asset/the-bedroom-0097/rgHdFPzCeCfnxQ\", # The bedroom\n",
        "               \"https://artsandculture.google.com/asset/the-starry-night-vincent-van-gogh/bgEuwDxel93-Pg\", # The Starry Night\n",
        "               \"https://artsandculture.google.com/asset/sunflowers-vincent-van-gogh/hwEGmsM-FoHAwA\" # Sunflowers\n",
        "               ),\n",
        "    bs_kwargs=dict(\n",
        "        parse_only=bs4.SoupStrainer(\n",
        "            \"div\",\n",
        "            attrs={\"class\": [\"R5VDUc\", \"PugfHe\"]},\n",
        "        )\n",
        "    ),\n",
        ")\n",
        "\n",
        "basic_data = basic_web_loader.load()\n",
        "\n",
        "# Define the additional web pages to load\n",
        "additional_web_loader = WebBaseLoader(\n",
        "    web_paths=[\n",
        "        \"https://artsandculture.google.com/story/jgWxmsxoUpN42A\", # The Woman Who Made Van Gogh Famous\n",
        "        \"https://artsandculture.google.com/story/oQURDM2pcsofJg\", # The Life and Works of Van Gogh\n",
        "        \"https://artsandculture.google.com/story/10-things-you-might-not-know-about-vincent-van-gogh/agLStrYjblBRKA\", # 10 Things You Might Not Know About Vincent van Gogh\n",
        "        \"https://artsandculture.google.com/story/FwXR3IqVOqNv_g\" # A brother like no other: Theo and Vincent van Gogh\n",
        "\n",
        "    ]\n",
        ")\n",
        "\n",
        "# Load documents from the additional set of web pages\n",
        "additional_data = additional_web_loader.load()\n",
        "\n",
        "# Combine the data from both sets\n",
        "data = basic_data + additional_data\n",
        "\n",
        "# Output the combined data\n",
        "for doc in data:\n",
        "    print(doc)"
      ],
      "metadata": {
        "colab": {
          "base_uri": "https://localhost:8080/"
        },
        "id": "9hT6v4RcRrA4",
        "outputId": "c688651d-197f-4790-8472-caa76c7f9531"
      },
      "execution_count": null,
      "outputs": [
        {
          "output_type": "stream",
          "name": "stdout",
          "text": [
            "page_content='Self-PortraitVincent van Gogh1889Like Rembrandt and Goya, Vincent van Gogh often used himself as a model; he produced over forty-three self-portraits, paintings or drawings in ten years. Like the old masters, he observed himself critically in a mirror. Painting oneself is not an innocuous act: it is a questioning which often leads to an identity crisis.Thus he wrote to his sister: \"I am looking for a deeper likeness than that obtained by a photographer.\" And later to his brother: \"People say, and I am willing to believe it, that it is hard to know yourself. But it is not easy to paint yourself, either. The portraits painted by Rembrandt are more than a view of nature, they are more like a revelation\".In this head-and-shoulders view, the artist is wearing a suit and not the pea jacket he usually worked in. Attention is focused on the face. His features are hard and emaciated, his green-rimmed eyes seem intransigent and anxious. The dominant colour, a mix of absinth green and pale turquoise finds a counterpoint in its complementary colour, the fiery orange of the beard and hair. The model\\'s immobility contrasts with the undulating hair and beard, echoed and amplified in the hallucinatory arabesques of the background.' metadata={'source': 'https://artsandculture.google.com/asset/self-portrait/9gFw_1Vou2CkwQ'}\n",
            "page_content='The BedroomVincent van Gogh1889Vincent van Gogh so highly esteemed his bedroom painting that he made three distinct versions: the first, now in the collection of the Van Gogh Museum, Amsterdam; the second, belonging to the Art Institute of Chicago, painted a year later on the same scale and almost identical; and a third, smaller canvas in the collection of the Musée d’Orsay, Paris, which he made as a gift for his mother and sister. Van Gogh conceived the first “Bedroom” in October 1888, a month after he moved into his “Yellow House” in Arles, France. This moment marked the first time the artist had a home of his own, and he immediately and enthusiastically set about decorating, painting a suite of canvases to fill the walls. Completely exhausted from the effort, he spent two and a half days in bed and was then inspired to create a painting of his bedroom. As he wrote to his brother, Theo, “It amused me enormously doing this bare interior. With a simplicity à la Seurat. In flat tints, but coarsely brushed in full impasto, the walls pale lilac, the floor in a broken and faded red, the chairs and the bed chrome yellow, the pillows and the sheet very pale lemon green, the bedspread blood-red, the dressing-table orange, the washbasin blue, the window green. I had wished to express ‘utter repose’ with all these very different tones.” Although the picture symbolized relaxation and peace to the artist, to our eyes the canvas seems to teem with nervous energy, instability, and turmoil, and effect heightened by the sharply receding perspective.' metadata={'source': 'https://artsandculture.google.com/asset/the-bedroom-0097/rgHdFPzCeCfnxQ'}\n",
            "page_content='The Starry NightVincent van Gogh1889Van Gogh\\'s night sky is a field of roiling energy. Below the exploding stars, the village is a place of quiet order. Connecting earth and sky is the flamelike cypress, a tree traditionally associated with graveyards and mourning. But death was not ominous for van Gogh. \"Looking at the stars always makes me dream,\" he said, \"Why, I ask myself, shouldn\\'t the shining dots of the sky be as accessible as the black dots on the map of France? Just as we take the train to get to Tarascon or Rouen, we take death to reach a star.\"The artist wrote of his experience to his brother Theo: \"This morning I saw the country from my window a long time before sunrise, with nothing but the morning star, which looked very big.\" This morning star, or Venus, may be the large white star just left of center in The Starry Night. The hamlet, on the other hand, is invented, and the church spire evokes van Gogh\\'s native land, the Netherlands. The painting, like its daytime companion, The Olive Trees, is rooted in imagination and memory. Leaving behind the Impressionist doctrine of truth to nature in favor of restless feeling and intense color, as in this highly charged picture, van Gogh made his work a touchstone for all subsequent Expressionist painting.The Museum of Modern Art, MoMA Highlights, New York: The Museum of Modern Art, revised 2004, originally published 1999, p. 35Find out more about The Starry Night at:mo.ma/starrynight' metadata={'source': 'https://artsandculture.google.com/asset/the-starry-night-vincent-van-gogh/bgEuwDxel93-Pg'}\n",
            "page_content='SunflowersVincent van GoghJanuary 1889 - 1889Van Gogh’s paintings of Sunflowers are among his most famous. He did them in Arles, in the south of France, in 1888 and 1889. Vincent painted a total of five large canvases with sunflowers in a vase, with three shades of yellow ‘and nothing else’. In this way, he demonstrated that it was possible to create an image with numerous variations of a single colour, without any loss of eloquence.The sunflower paintings had a special significance for Van Gogh: they communicated ‘gratitude’, he wrote. He hung the first two in the room of his friend, the painter Paul Gauguin, who came to live with him for a while in the Yellow House. Gauguin was impressed by the sunflowers, which he thought were ‘completely Vincent’. Van Gogh had already painted a new version during his friend’s stay and Gauguin later asked for one as a gift, which Vincent was reluctant to give him. He later produced two loose copies, however, one of which is now in the Van Gogh Museum.' metadata={'source': 'https://artsandculture.google.com/asset/sunflowers-vincent-van-gogh/hwEGmsM-FoHAwA'}\n",
            "page_content=\"The Woman Who Made Van Gogh Famous — Google Arts & CultureHomeExploreNearbyProfileAchievementsCollectionsThemesExperimentsArtistsMediumsArt movementsHistorical eventsHistorical figuresPlacesAboutSettingsView activitySend feedbackPrivacy & Terms • Generative AI TermsHomeDiscoverPlayNearbyFavoritesSign inLoading…The Woman Who Made Van Gogh FamousWould the iconic painter have remained unknown if not for his sister-in-law Johanna?By Google Arts & Culture3-Johanna van Gogh-BongerOne of the most famous artists in history, Vincent van Gogh was a Dutch Post-Impressionist painter whose work became one of the cornerstones of modern art. Largely unknown during his life, it was after his death from suicide aged 37 that his work gained notoriety and attention.But enough about Van Gogh, who was Johanna?It wasn't just down to luck that van Gogh's legend grew. It was due in large part to the promotion work of his sister-in-law Johanna van Gogh. She was married to Vincent's brother Theo, and after his death dedicated her life to gaining wider attention for his work.Imperial Fritillaries in a Copper Vase (1887) by Vincent van GoghMusée d’Orsay, ParisFollowing the death of her husband Theo, just a few months after Vincent, she worked tirelessly to translate letters between the brothers and helped to organize exhibitions to show Vincent's work.Sunflowers (January 1889 - 1889) by Vincent van GoghVan Gogh MuseumWhat motivated Johanna?Johanna wanted to carry on Theo's work of bringing his brother to a wider audience and also to shine a light on her husband's role in supporting Vincent's art.La Mousmé (1888) by Vincent van GoghNational Gallery of Art, Washington DCShe kept a diary from the age of 17 which is a major source of information about the relationship between the two brothers and Johanna, and also clearly demonstrates her dedication to bringing their work the recognition she felt it deserved.\\xa0Self-Portrait (1887) by Vincent van Gogh (Dutch, 1853-1890)The Art Institute of ChicagoWhy has her role been largely forgotten?Johanna's role in promoting the work of her brother-in-law was largely forgotten once the wider world had begun to appreciate his genius. In many ways she can be seen as a victim of her own success.Van Gogh's Bedroom in Arles (1889) by Vincent van GoghMusée d’Orsay, ParisBut there is little doubt that without the years of dedication and hard work by Johanna, the art world would be a very different place. Vincent's enormous impact and influence is still felt to this day, and we have an often overlooked woman to thank for it.85199 (1970-09) by John OlsonLIFE Photo CollectionDiscover more\\xa0about how women have impacted arts and culture.Credits: All mediaThe story featured may in some cases have been created by an independent third party and may not always represent the views of the institutions, listed below, who have supplied the content.LIFE Photo CollectionMusée d’Orsay, ParisNational Gallery of Art, Washington DCThe Art Institute of ChicagoVan Gogh MuseumStories from these collectionsOnline ExhibitBefore the Mona Lisa: Leonardo’s Captivating Ginevra de’ BenciNational Gallery of Art, Washington DCOnline ExhibitFrom Station to the Renovated Musée d'OrsayMusée d’Orsay, ParisOnline ExhibitWhich Books did Vincent van Gogh Read?Van Gogh MuseumOnline ExhibitVermeer and the Masters of Genre PaintingNational Gallery of Art, Washington DCOnline ExhibitA brother like no other: Theo and Vincent van GoghVan Gogh MuseumOnline ExhibitFashioning a NationNational Gallery of Art, Washington DCOnline ExhibitWhich Books did Vincent van Gogh Read?Van Gogh MuseumOnline ExhibitVincent van Gogh's love lifeVan Gogh MuseumOnline ExhibitVincent Van Gogh's Love LifeVan Gogh MuseumTranslate with GoogleGoogle apps\" metadata={'source': 'https://artsandculture.google.com/story/jgWxmsxoUpN42A', 'title': 'The Woman Who Made Van Gogh Famous — Google Arts & Culture', 'description': 'Would the iconic painter have remained unknown if not for his sister-in-law Johanna?', 'language': 'en'}\n",
            "page_content=\"The Life and Works of Van Gogh — Google Arts & CultureHomeExploreNearbyProfileAchievementsCollectionsThemesExperimentsArtistsMediumsArt movementsHistorical eventsHistorical figuresPlacesAboutSettingsView activitySend feedbackPrivacy & Terms • Generative AI TermsHomeDiscoverPlayNearbyFavoritesSign inLoading…The Life and Works of Van GoghExplore the life of Van Gogh through his works of art. Travel to different galleries to see his iconic paintings.This story was created for the Google Expeditions project by Smarthistory, now available on Google Arts & CultureBeginnings: The Art That influenced Van GoghWhile many people know Van Gogh’s masterpieces, fewer are familiar with his early work and his artistic development. In 1880, at age 27, Vincent Van Gogh decided to become an artist.He had been art dealer (thanks to a family connection), a teacher, and then, with increasing religious fervor, a missionary in a poor coal mining district in Belgium. Always emotionally troubled, Van Gogh threw himself into art with feverish commitment.Van Gogh was inspired by Lhermitte’s depictions of rural life and he asked his brother Theo to send reproductions of Lhermitte’s work. This painting is typical—a sympathetic scene of peasant life depicting three generations. Van Gogh’s own early subjects included peasants and miners.Jules Breton was an artist Van Gogh admired. He specialized in images of peasants. The harsh subject of a poor girl is softened by her blue shirt, the green grass, and her restful pose. She sits in profile but looks directly at us.Unlike the painting by Breton, this woman is older and bends forward at work harvesting potatoes. Her labor is expressed by the angular arm that breaks the horizon. The colors muddy like the soil. Van Gogh’s is a less sentimental view of peasant life.Van Gogh, Early YearsVan Gogh’s early works are dark and very different from paintings like Starry Night and so many other brightly colored landscapes, portraits, and still-lifes that we know so well.Theo van Gogh, Vincent’s brother, who was an art dealer in Paris, criticized the darkness of these early works and urged his brother to brighten his palette. That would happen in 1886, when Van Gogh traveled to Paris and saw the work of the Impressionists but these paintings are earlier.Van Gogh wrote his brother, “...these folk,...tilled the earth themselves with these hands they are putting in the dish,...they have honestly earned their food.” To viewers used to sentimental paintings this was coarse, but Van Gogh wanted “a real peasant painting.”Still Life with Bible (October 1885 - 1885) by Vincent van GoghVan Gogh MuseumVan Gogh’s father, a minister, died suddenly in 1885. This is his father’s bible. The closed book is Zola’s novel The Joy of Life. The tension between these volumes mirrors Van Gogh’s own conflict between his father and his life as an artist.Bank of the Seine (May 1887 - July 1887) by Vincent van GoghVan Gogh MuseumVan Gogh in Paris 1886-87Here is the Van Gogh we recognize. At this time, Impressionist painters like Monet and Renoir explored the effects of light using brilliant colors and loose brushstrokes.On the long wall to the right are paintings that demonstrate that Van Gogh has absorbed the lessons of Impressionism. On the far wall, two brightly painted canvases show that Van Gogh had also been looking at Japanese art—another important influence for artists at this time.Here is Van Gogh the Impressionist. Well-dressed figures enjoy a day in a Parisian park. The bright colors are Impressionist while the small touches of paint recall the Neo-Impressionist Seurat, who had taken the art world by storm the previous year.Models are expensive, but a mirror is cheap. Van Gogh painted 29 self-portraits in Paris. He became more daring, learning to use color expressively. Here, Van Gogh paints part of his beard orange, and his right eye with a touch of turquoise.Van Gogh at the Art Institute of ChicagoThis is a good time to visit the Art Institute of Chicago and take a look at a gallery containing some important later works by Van Gogh and the artist, Paul Gauguin (among others).Van Gogh is thinking about complementary colors—colors on opposite sides of the color wheel (red and green, blue and orange, yellow and violet). Here, the artist contrasts blues and oranges in the background, and reds and greens in his jacket.The Bedroom (1889) by Vincent van Gogh (Dutch, 1853-1890)The Art Institute of ChicagoVan Gogh moved to Arles in the South of France. In this painting, color is expressive and independent of nature. Van Gogh described the wood of the bed and chairs as “the yellow of fresh butter.” Van Gogh has found his own voice.Van Gogh in Saint RemyVan Gogh suffered most of his life from depression, bouts of anger, and unreasonable behavior. In December 1888 he fought with the artist Gauguin and cut off part of his ear.\\xa0\\xa0He was admitted to a hospital, but his illness worsened.Soon after, he admitted himself to an asylum in Saint-Rémy-de-Provence. It is impossible to know for certain what the artist suffered from—he was diagnosed with a form of epilepsy. Despite his prolonged suffering, he was a remarkably productive artist.Van Gogh painted several reapers—a lone harvesters. Death is often personified as a reaper and Van Gogh was aware of this association. The colors of his clothing match the violet hills and pale lime-green sky, he appears as part of nature.Van Gogh admired artists who used color in a revolutionary way, and he read numerous books on color theory. Here the blues against yellow and orange express his ambition to be a “...colorist such as there hasn’t been before.”Van Gogh in Auvers-sur-OiseWe’re in the Van Gogh Museum, in a gallery containing paintings from the end of Van Gogh’s life (he was just 37 when he died).He spent the last period of his life in the village of Auvers-sur-Oise, about 20 miles northwest of Paris and a place well-known to other nineteenth century artists, who lived and worked there. Van Gogh died of a gunshot wound to his chest (most likely suicide).The painting in the center, and the one to the right, represent wheatfields. There are no human figures and no trees. The countryside—nature—was restorative, Van Gogh called it “healthy and fortifying” but it was also isolating.Wheatfield with crows (July 1890 - 1890) by Vincent van GoghVan Gogh MuseumIn this painting of a wheatfield, the sky darkens and crows fly across the horizon. Pathways diverge but lead nowhere. This is one of the artist’s last paintings (his final canvas, Tree Roots, is to the right).We are staring directly down into a tangle of tree roots. Passionate about art, and suffering from illness, Van Gogh left an amazing body of work, rooted in the late 19th century concern for depicting nature and our personal response to it.Credits: All mediaThe story featured may in some cases have been created by an independent third party and may not always represent the views of the institutions, listed below, who have supplied the content.The Art Institute of ChicagoVan Gogh MuseumStories from Van Gogh MuseumOnline ExhibitWhich Books did Vincent van Gogh Read?Van Gogh MuseumOnline ExhibitA brother like no other: Theo and Vincent van GoghVan Gogh MuseumOnline ExhibitWhich Books did Vincent van Gogh Read?Van Gogh MuseumOnline ExhibitVincent van Gogh's love lifeVan Gogh MuseumOnline ExhibitVincent Van Gogh's Love LifeVan Gogh MuseumExplore moreRelated themeArts & Culture ExpeditionsWhere do you want to go today? View themeRelated themeLearn With Google Arts & CultureSubjects to engage and inspire for teachers, parents, and guardiansView themeTranslate with GoogleGoogle apps\" metadata={'source': 'https://artsandculture.google.com/story/oQURDM2pcsofJg', 'title': 'The Life and Works of Van Gogh — Google Arts & Culture', 'description': 'Explore the life of Van Gogh through his works of art. Travel to different galleries to see his iconic paintings.', 'language': 'en'}\n",
            "page_content=\"10 Things You Might Not Know About Vincent van Gogh — Google Arts & CultureHomeExploreNearbyProfileAchievementsCollectionsThemesExperimentsArtistsMediumsArt movementsHistorical eventsHistorical figuresPlacesAboutSettingsView activitySend feedbackPrivacy & Terms • Generative AI TermsHomeDiscoverPlayNearbyFavoritesSign inLoading…10 Things You Might Not Know About Vincent van GoghBy Google Arts & CultureWords by Léonie Shinn-MorrisSelf-portrait (March 1887 - June 1887) by Vincent van GoghVan Gogh MuseumFrom his inspirations to his bromances, discover some lesser known facts about this iconic post-impressionist painterBorn in Groot-Zundert, Netherlands, Vincent van Gogh is one of the most famous artists of all time. His sunflowers are iconic, his cut-off ear legendary, and yet, during van Gogh’s lifetime, he was pretty much unknown and considered himself a failure.Today van Gogh’s artworks sell for hundreds of millions of dollars and he’s a household name, but there are facts about his life and work that might still surprise you.The potato eaters (1885) by Vincent van GoghKröller-Müller Museum1. He almost never became an artist at allImagine a world where we didn’t have the Sunflowers, or The Starry Night? This world wasn’t so far off. Originally, van Gogh planned to be a pastor and worked as a lay preacher in Borinage, Belgium. It was only on being sacked from this job that he decided that his future lay in painting. Indeed, van Gogh didn’t start painting until he was 27 years old, and he never received any formal training.One Hundred Famous Views of Edo “Sudden Shower over Shin-Ohashi Bridge and Atake” (1857) by Utagawa HiroshigeShizuoka city Tokaido Hiroshige Museum of Art2. Inspirations from the EastVan Gogh had varied inspirations, including Dutch genre painting and the realist paintings of Millet and his contemporaries, but he was particularly influenced by Japanese woodblock prints.  In some cases he even made copies – albeit in his very expressive, idiosyncratic style – of prints by Hiroshige, Kesai Eisen and others.Sunflowers (January 1889 - 1889) by Vincent van GoghVan Gogh Museum3. A new work every 36 hoursDespite only working for 10 years – from the age of 27 up until his early demise at 37 – van Gogh was incredibly prolific. He produced more than 900 paintings and many more drawings and sketches, which works out at nearly a new artworks every 36 hours. Phew!Autograph letter, dated 17 October 1888, to Paul Gauguin (1888) by Vincent van GoghThe Morgan Library & Museum4. A man of lettersAs well as creating hundreds of artworks, van Gogh wrote almost as many letters and postcards. These often included the first sketches of many of his most famous masterpieces.Self-Portrait Dedicated to Paul Gauguin (1888) by Vincent van GoghHarvard Art Museums5. BromancesVan Gogh had several close relationships with other artists, including fellow painter Paul Gaugin. Van Gogh, Gaugin and Emile Bernard planned to form a close-knit artists' community in the south of France, where they intended to live and paint together. Instigated by van Gogh, the three artists exchanged self-portraits.Self-portrait with grey felt hat (September 1887 - October 1887) by Vincent van GoghVan Gogh Museum6. He was his own modelAn unknown and impoverished artist, van Gogh didn’t have money to pay for models, so he painted himself instead. His other cost-saving tricks included painting over his artworks instead of buying new canvas. How many more masterpieces are we yet to find hidden under other paintings?The Starry Night (1889) by Vincent van GoghMoMA The Museum of Modern Art7. A failure?When van Gogh painted his most famous painting, The Starry Night, he didn’t even think it was any good. In fact, van Gogh considered himself and many of his paintings to be failures, and it's rumored that he only ever sold one painting in his lifetime. If only we could go back in time and show him how well-loved he would be over 150 years on.Head of a Skeleton with a Burning Cigarette (January 1886 - February 1886) by Vincent van GoghVan Gogh Museum8. He cut off his own ear following an argument with GauginIt's well known that van Gogh cut off his own ear in 1888, but do you know why? The circumstances in which van Gogh cut off his ear are not exactly known, but many experts believe that it was following a furious row with fellow painter Paul Gaugin at the Yellow House in Arles.Some historians even believe that Gaugin cut off his friend's ear, and that the pair conspired to blame it on van Gogh so that Gaugin could escape the police. Afterwards, Van Gogh allegedly packaged up his removed ear and gave it to a prostitute in a nearby brothel.Undergrowth with Two Figures (1890) by Vincent van Gogh (Dutch, b.1853, d.1890)Cincinnati Art Museum9. Tragically, he took his own lifeVan Gogh suffered mental health issues for many years. In April 1889 he voluntarily admitted himself to the Saint-Paul-de-Mausole psychiatric hospital in Saint-Rémy, where he spent a year. It was from his window here that he created some of his most well-known paintings, including The Starry Night.After leaving the asylum, van Gogh moved to Auvers, a village near Paris, to be closer to his brother Theo. But his mental health continued to deteriorate and, on July 29, 1890, he shot himself in the chest. He would die two days later; his last words to his brother were ‘the sadness will last forever’.Poppy field (June 1890) by Vincent van GoghKunstmuseum10. An inspiration for centuriesNot only have Vincent van Gogh’s artworks come to define post-impressionism and provided endless inspiration for artists, but his tragic life story has also captured the hearts of countless musicians, writers and filmmakers too. Don McLean’s 1971 hit song “Vincent” is inspired by van Gogh’s unique perspective on the world. He sings, 'they did not listen, they did not know how… perhaps they’ll listen now'.Irises (Front)The J. Paul Getty MuseumThis year also sees the release of Loving Vincent, an animated feature film in which each frame has been painted by hand. The film features 65,000 frames made by 125 painters over the course of 6 years.Credits: StoryExplore more on Vincent van Gogh:- Van Gogh: From Self-Portraits to Street Art- Why Did Van Gogh Cut Off His Own Ear?- Last Works: New Experiments- See all of van Gogh’s worksCredits: All mediaThe story featured may in some cases have been created by an independent third party and may not always represent the views of the institutions, listed below, who have supplied the content.Cincinnati Art MuseumHarvard Art MuseumsKröller-Müller MuseumKunstmuseumMoMA The Museum of Modern ArtMusée d’Orsay, ParisShizuoka city Tokaido Hiroshige Museum of ArtThe J. Paul Getty MuseumThe Morgan Library & MuseumVan Gogh MuseumStories from these collectionsOnline ExhibitLADY GO! AIKO X EDO GIRLS COLLECTIONShizuoka city Tokaido Hiroshige Museum of ArtOnline ExhibitSophie Taeuber-ArpMoMA The Museum of Modern ArtOnline ExhibitPainting Edo: Japanese Art from the Feinberg Collection—Part OneHarvard Art MuseumsOnline ExhibitU.S. HistoryCincinnati Art MuseumOnline ExhibitFrom Station to the Renovated Musée d'OrsayMusée d’Orsay, ParisOnline ExhibitJoseph: A Celebrated Haitian Model in 19th-Century ParisThe J. Paul Getty MuseumOnline ExhibitComposing with Chopin: Etude Op. 10 No. 3The Morgan Library & MuseumOnline ExhibitWhich Books did Vincent van Gogh Read?Van Gogh MuseumOnline ExhibitTOKAIDO COMMUNITY WALL PROJECT KAMBARA Shizuoka city Tokaido Hiroshige Museum of ArtOnline ExhibitPainting Edo: Japanese Art from the Feinberg Collection—Part TwoHarvard Art MuseumsOnline ExhibitRobert S. DuncansonCincinnati Art MuseumOnline ExhibitIrises at the GettyThe J. Paul Getty MuseumOnline ExhibitHats Off Gentlemen, a Genius!The Morgan Library & MuseumOnline ExhibitA brother like no other: Theo and Vincent van GoghVan Gogh MuseumTranslate with GoogleGoogle apps\" metadata={'source': 'https://artsandculture.google.com/story/10-things-you-might-not-know-about-vincent-van-gogh/agLStrYjblBRKA', 'title': '10 Things You Might Not Know About Vincent van Gogh — Google Arts & Culture', 'description': \"Google Arts & Culture features content from over 2000 leading museums and archives who have partnered with the Google Cultural Institute to bring the world's treasures online.\", 'language': 'en'}\n",
            "page_content='A brother like no other: Theo and Vincent van Gogh — Google Arts & CultureHomeExploreNearbyProfileAchievementsCollectionsThemesExperimentsArtistsMediumsArt movementsHistorical eventsHistorical figuresPlacesAboutSettingsView activitySend feedbackPrivacy & Terms • Generative AI TermsHomeDiscoverPlayNearbyFavoritesSign inLoading…A brother like no other: Theo and Vincent van GoghMost of what we know about Vincent van Gogh’s life comes from letters to his brother, Theo, who supported and advocated for the artist throughout his life.By Van Gogh MuseumSelf-portrait (March 1887 - June 1887) by Vincent van GoghVan Gogh MuseumBrotherly loveTheo van Gogh gave Vincent money, advice, advocated for his brother\\'s work, guided him into a career in art.Theo\\'s widow Jo ultimately helped secure van Gogh’s eventual posthumous recognition as one of the greatest artists of all time.Uncover the stories from their letters in this exhibit.Self-Portrait with Straw Hat (March 1887 - June 1887) by Vincent van GoghVan Gogh MuseumA special relationshipIn 1872, aged 16, Vincent left his parental home in Brabant and started working as a trainee art dealer for his uncle in The Hague. His earliest surviving letters date from these years.\\xa0He began a life-long correspondence with his younger brother Theo.\\xa0One year later, Theo started working for the same company in their Brussels branch. Vincent was transferred to the London branch and in 1875 to Paris.Seascape near Les Saintes-Maries-de-la-Mer (June 1888 - 1888) by Vincent van GoghVan Gogh MuseumFinding GodIn Paris Vincent became increasingly religious. He was less and less interested in his job. After losing it, he returned to England where he was a teacher for a short time.\\xa0Vincent aspired to study theology and he moved to Amsterdam, but he lacked the discipline to study. However, he still wished to serve God. He became a lay preacher in the Belgian mining region Borinage.The Vicarage at Nuenen (September 1885 - October 1885) by Vincent van GoghVan Gogh MuseumSombre placeVincent wrote to Theo about Borinage in 1879:\\xa0\"It’s a sombre place...everything has something dismal and deathly about it. The workers are...emaciated and pale owing to fever...look exhausted and haggard, weather-beaten and prematurely old.\"Tassel Hyancinth (May 1889 - 1889) by Vincent van GoghVan Gogh MuseumA new directionVincent often sent his brother sketches.\\xa0Theo advised Vincent to focus on his drawing. So Vincent moved to Brussels in 1880, where he worked on his drawing techniques and met other artists. Since Vincent no longer had a paying job, Theo sent him money from time to time. Wheatfield with crows (July 1890 - 1890) by Vincent van GoghVan Gogh MuseumBack with mom and dadIn 1883, Vincent moved back in with his parents in Nuenen in Brabant province. There, he continued practicing his drawing and he painted rural life: farmers, workers and weavers.\\xa0He started work on The Potato Eaters. By this time, Theo became a manager of the art firm, and supported Vincent financially so he could concentrate fully on his art.\\xa0Farm with Stacks of Peat (November 1883 - 1883) by Vincent van GoghVan Gogh MuseumA proposal“Now I have a proposal to make for the future. Let me send you my work and you take what you want from it, but I insist that I may consider the money I would receive from you after March as money I’ve earned.”\\xa0- Vincent to Theo, 15 January 1884Theo did not succeed in selling Vincent\\'s work in Paris - it was too dark.Avenue of Poplars in Autumn (October 1884 - 1884) by Vincent van GoghVan Gogh MuseumSocial failureVincent’s parents were unhappy that he’d given up work. They thought he was a social failure.\\xa0Shortly after his father passed away in 1885, Vincent left for Antwerp to enroll at the academy of arts, never to return to the Netherlands.Head of a Skeleton with a Burning Cigarette (January 1886 - February 1886) by Vincent van GoghVan Gogh MuseumArt academyThe art academy in Antwerp afforded him good materials, drawing clubs with models, and museums packed with art. But he wasn’t exactly enamored with the art classes:“I actually find all the drawings I see there hopelessly bad — and fundamentally wrong.\\xa0And I know that mine are totally different —\\xa0time will just have to tell who’s right. Damn it, not one of them has any feeling for what a classical statue is.”- Vincent to Theo, January 1886View of Paris (June 1886 - July 1886) by Vincent van GoghVan Gogh MuseumTo ParisHis next move was to turn up unannounced in Paris, where Theo was living.\\xa0He planned to take classes in the studio of the popular artist Fernand Cormon.\"My dear Theo, Don’t be cross with me that I’ve come all of a sudden. I’ve thought about it so much and I think we’ll save time this way.\"- Vincent to Theo, 28 February 1886Woman at the Champs-Élysées by night (1889/1893) by Louis AnquetinVan Gogh MuseumFrom dark to lightThere, Vincent met a new generation of artists - including Henri de Toulouse-Lautrec, and Emile Bernard. The people and art scene of Paris inspired him to experiment, and the dark tones of his former work gave way to brighter colors.Bridge in the rain: after Hiroshige (October 1887 - November 1887) by Vincent van GoghVan Gogh MuseumAsian inspirationVan Gogh also found inspiration in Japanese woodcuts, which Theo - with his extensive art connections - helped him collect.\\xa0Van Gogh’s distinctive style began to emerge.Montmartre in the rain (1897) by Pierre BonnardVan Gogh MuseumItchy feetBut, not one to hang about, Vincent soon tired of the city and headed to Provence in search of the light and color he found in the Japanese landscapes.“It seems to me almost impossible to be able to work in Paris, unless you have a refuge in which to recover and regain your peace of mind and self-composure. Without that, you’d be bound to get utterly numbed.”\\xa0- Vincent to Theo, 21 February 1888His style became looser and more expressive, and he set about creating an artist collective in the Yellow House in Arles.“You know I’ve always thought it ridiculous for painters to live alone. You always lose when you’re isolated.”\\xa0- Vincent to Theo, May 1888Vincent van Gogh painting sunflowers (1888) by Paul GauguinVan Gogh MuseumThe beginning of the endThe first - and last - artist to join van Gogh was Paul Gauguin, who arrived in October 1888.“So Gauguin’s coming; that will make a big change in your life. I hope that your efforts will succeed in making your house a place where artists will feel at home.”\\xa0- Theo to Vincent, Paris, 19 October 1888Almond Blossom (February 1890 - 1890) by Vincent van GoghVan Gogh MuseumThat incidentTheir very different characters caused tension between Vincent and Gauguin. When Gauguin considered leaving the Yellow House Vincent threatened him with a razor.\\xa0While the exact circumstances are not known, it was shortly after this that van Gogh sliced off part of his ear, later presenting it to a prostitute in the town\\'s red light district.\\xa0He was admitted to hospital. On hearing the news, Theo rushed down from Paris.Wheatfield with a reaper (September 1889 - 1889) by Vincent van GoghVan Gogh MuseumPsychiatric hospitalAfter his discharge from the hospital Vincent resumed work. In the following months, his mental health fluctuated. Fearing illness, he had himself voluntarily admitted to Saint-Paul-the-Mausole, a psychiatric hospital in in Saint-Rémy-de-Provence.\\xa0He continued working hard and made many paintings, including Almond Blossom.Gauguin\\'s chair (December 1888 - 1888) by Vincent van GoghVan Gogh MuseumRecognition in ParisThe following year, Theo submitted some of Vincent’s paintings to a Paris exhibition, and 10 of the artist’s works were chosen for display.“How pleased I would have been if you’d been there at the Independents’ exhibition. […] Your paintings are well placed and look very well. Many people came up to me to give compliments. Gauguin said that your paintings are the key to the exhibition.”\\xa0- Theo to Vincent, March 1890Wheatfield under Thunderclouds (July 1890 - 1890) by Vincent van GoghVan Gogh MuseumFeel the stormAfter leaving the hospital, Vincent moved to Auvers-sur-Oise, an artist\\'s village near Paris,\\xa0 and threw himself into his painting. But when he learned that Theo planned to quit his job and set up a business, Vincent worried about the financial risk, and, in turn, his own future.\\xa0“Once back here I felt very saddened, and had continued to feel the storm that threatens you also weighing upon me. I usually try to be quite good-humoured, but my life, too, is attacked at the very root, my step also is faltering.”\\xa0- Vincent to Theo, July 1890Theo and his wife Jo tried to reassure Vincent. But financial worries and the fear that his nervous attacks might return were more than he could bear. On 27 July 1890, Vincent shot himself in the chest, and died of his injuries two days later. Theo was there when he died.Self-portrait with pipe (September 1886 - November 1886) by Vincent van GoghVan Gogh MuseumLegacy and recognitionTheo organized a memorial exhibition of his brother’s work, but soon after, he suffered a nervous breakdown and died in early 1891.\\xa0 Theo’s widow, Jo van Gogh-Bonger, sought to raise awareness of Vincent’s work, and published his letters to Theo in 1914.\\xa0After Jo’s death, her son Vincent Willem van Gogh loaned his uncle’s paintings to the Stedelijk Museum in Amsterdam.\\xa0 And in 1973, the Van Gogh Museum was opened by Queen Juliana, which now attracts 2 million visitors a year.\\xa0\"I can do nothing about it if my paintings don’t sell. The day will come, though, when people will see that they’re worth more than the cost of the paint and my subsistence, very meagre in fact, that we put into them.\"- Vincent to Theo, Arles, 25 October 1888Credits: All mediaThe story featured may in some cases have been created by an independent third party and may not always represent the views of the institutions, listed below, who have supplied the content.Van Gogh MuseumStories from Van Gogh MuseumOnline ExhibitWhich Books did Vincent van Gogh Read?Van Gogh MuseumOnline ExhibitWhich Books did Vincent van Gogh Read?Van Gogh MuseumOnline ExhibitVincent van Gogh\\'s love lifeVan Gogh MuseumOnline ExhibitVincent Van Gogh\\'s Love LifeVan Gogh MuseumTranslate with GoogleGoogle apps' metadata={'source': 'https://artsandculture.google.com/story/FwXR3IqVOqNv_g', 'title': 'A brother like no other: Theo and Vincent van Gogh — Google Arts & Culture', 'description': 'Most of what we know about Vincent van Gogh’s life comes from letters to his brother, Theo, who supported and advocated for the artist throughout his life.', 'language': 'en'}\n"
          ]
        }
      ]
    },
    {
      "cell_type": "markdown",
      "source": [
        "(2) LangChain의 RecursiveCharacterTextSplitter()를 사용해서 문서를 Chunk 로 분할하기"
      ],
      "metadata": {
        "id": "l4XbBk_USMvz"
      }
    },
    {
      "cell_type": "code",
      "source": [
        "# Split documents into chunks\n",
        "from langchain.text_splitter import RecursiveCharacterTextSplitter\n",
        "\n",
        "text_splitter = RecursiveCharacterTextSplitter(\n",
        "    chunk_size = 500,\n",
        "    chunk_overlap = 50\n",
        ")\n",
        "\n",
        "all_splits = text_splitter.split_documents(data)"
      ],
      "metadata": {
        "id": "wDZb68K8Rt2p"
      },
      "execution_count": null,
      "outputs": []
    },
    {
      "cell_type": "markdown",
      "source": [
        "(3) OpenAIEmbeddings()를 사용해서 텍스트를 임베팅으로 변환하여 Chroma Vector DB에 저장하기"
      ],
      "metadata": {
        "id": "Z09xN0dPSPyx"
      }
    },
    {
      "cell_type": "code",
      "source": [
        "# Transform into Text Embeddings and Store at Chroma Vector DB\n",
        "directory = 'index_store'\n",
        "\n",
        "vectorstore = Chroma.from_documents(\n",
        "    documents=all_splits,\n",
        "    embedding= OpenAIEmbeddings(),\n",
        "    persist_directory=directory # persists the vectors to the file system\n",
        "    )\n",
        "\n",
        "vectorstore.persist()"
      ],
      "metadata": {
        "colab": {
          "base_uri": "https://localhost:8080/"
        },
        "id": "1ELmD5RpRwN-",
        "outputId": "3210bc2b-f27b-452f-9b04-07f5d598d45a"
      },
      "execution_count": null,
      "outputs": [
        {
          "output_type": "stream",
          "name": "stderr",
          "text": [
            "/usr/local/lib/python3.10/dist-packages/langchain_core/_api/deprecation.py:119: LangChainDeprecationWarning: The class `OpenAIEmbeddings` was deprecated in LangChain 0.0.9 and will be removed in 0.3.0. An updated version of the class exists in the langchain-openai package and should be used instead. To use it run `pip install -U langchain-openai` and import as `from langchain_openai import OpenAIEmbeddings`.\n",
            "  warn_deprecated(\n",
            "/usr/local/lib/python3.10/dist-packages/langchain_core/_api/deprecation.py:119: LangChainDeprecationWarning: Since Chroma 0.4.x the manual persistence method is no longer supported as docs are automatically persisted.\n",
            "  warn_deprecated(\n"
          ]
        }
      ]
    },
    {
      "cell_type": "markdown",
      "source": [
        "(4) Prompt"
      ],
      "metadata": {
        "id": "SUSOIjxYSTyH"
      }
    },
    {
      "cell_type": "code",
      "source": [
        "# info :  빈센트 반 고흐는 자신의 침실 그림을 매우 높이 평가하여 세 가지 버전을 만들었습니다. 첫 번째 버전은 현재 암스테르담 반 고흐 미술관에 소장되어 있습니다. 두 번째 작품은 시카고 미술관 소속으로 1년 뒤에 같은 규모로 거의 동일하게 그려졌습니다. 그리고 세 번째, 파리 오르세 미술관 컬렉션의 작은 캔버스는 그가 어머니와 누이에게 선물로 만든 것입니다. 반 고흐는 프랑스 아를의 '노란 집'으로 이사한 지 한 달 뒤인 1888년 10월에 최초의 '침실'을 구상했습니다. 이 순간은 예술가가 처음으로 자신의 집을 갖게 된 순간이었고, 그는 즉시 열정적으로 벽을 채울 캔버스 세트를 꾸미고 그림을 그리기 시작했습니다. 그 노력에 완전히 지친 그는 이틀 반 동안 침대에 누워 지냈고, 그 후 영감을 받아 자신의 침실을 그림으로 그렸습니다. 그는 동생 테오에게 이렇게 썼습니다. “이렇게 깔끔한 인테리어를 하는 것이 정말 즐거웠습니다. 쇠라 스타일의 단순함. 밋밋한 색조지만 전체 임파스토로 거칠게 칠했고, 벽은 옅은 라일락색이고, 바닥은 부서지고 빛 바랜 붉은색이고, 의자와 침대는 크롬 노란색이고, 베개와 시트는 매우 옅은 레몬색이고, 침대보는 핏빛 붉은색이고, 화장대 오렌지색, 세면대 파란색, 창문 녹색. 이렇게 다양한 톤으로 '완전한 휴식'을 표현하고 싶었어요.” 작가에게 그림은 휴식과 평화를 상징하지만, 우리 눈에는 화면이 긴장된 에너지, 불안정함, 혼란으로 가득 차 있고 급격하게 후퇴하는 원근감으로 인해 효과가 높아지는 것처럼 보입니다.\n",
        "# 프롬프트 내용을 직접 수정\n",
        "custom_prompt_template = \"\"\"\n",
        "You: 초등학생을 대상으로 하는 미술 선생님\n",
        "\n",
        "Role: 지금 감상하고 있는 작품은 The bedroom 이고, 작가는 Vincent van Gogh 입니다.\n",
        "작품 info 바탕으로 감상을 이끌어내고, 그들의 생각을 확장시키는 질문을 합니다.\n",
        "필요한 경우 제시된 context 를 바탕으로 학생들의 답변과 질문에 반응합니다.\n",
        "사용자가 답변하면, 그 답변을 바탕으로 추가 질문을 하거나 감상을 깊게 합니다.\n",
        "\n",
        "info :  빈센트 반 고흐는 자신의 침실 그림을 매우 높이 평가하여 세 가지 버전을 만들었습니다. 첫 번째 버전은 현재 암스테르담 반 고흐 미술관에 소장되어 있습니다. 두 번째 작품은 시카고 미술관 소속으로 1년 뒤에 같은 규모로 거의 동일하게 그려졌습니다. 그리고 세 번째, 파리 오르세 미술관 컬렉션의 작은 캔버스는 그가 어머니와 누이에게 선물로 만든 것입니다. 반 고흐는 프랑스 아를의 '노란 집'으로 이사한 지 한 달 뒤인 1888년 10월에 최초의 '침실'을 구상했습니다. 이 순간은 예술가가 처음으로 자신의 집을 갖게 된 순간이었고, 그는 즉시 열정적으로 벽을 채울 캔버스 세트를 꾸미고 그림을 그리기 시작했습니다. 그 노력에 완전히 지친 그는 이틀 반 동안 침대에 누워 지냈고, 그 후 영감을 받아 자신의 침실을 그림으로 그렸습니다. 그는 동생 테오에게 이렇게 썼습니다. “이렇게 깔끔한 인테리어를 하는 것이 정말 즐거웠습니다. 쇠라 스타일의 단순함. 밋밋한 색조지만 전체 임파스토로 거칠게 칠했고, 벽은 옅은 라일락색이고, 바닥은 부서지고 빛 바랜 붉은색이고, 의자와 침대는 크롬 노란색이고, 베개와 시트는 매우 옅은 레몬색이고, 침대보는 핏빛 붉은색이고, 화장대 오렌지색, 세면대 파란색, 창문 녹색. 이렇게 다양한 톤으로 '완전한 휴식'을 표현하고 싶었어요.” 작가에게 그림은 휴식과 평화를 상징하지만, 우리 눈에는 화면이 긴장된 에너지, 불안정함, 혼란으로 가득 차 있고 급격하게 후퇴하는 원근감으로 인해 효과가 높아지는 것처럼 보입니다.\n",
        "\n",
        "context : {context}\n",
        "\n",
        "--말투 가이드--\n",
        "\n",
        "반말로 진행합니다.\n",
        "\n",
        "친절한 친구 같은 느낌으로 대해주세요.\n",
        "\n",
        "활발하고 신나는 분위기가 유지되도록 해주세요.\n",
        "\n",
        "\n",
        "—-대화 가이드--\n",
        "\n",
        "인사말로 시작하며 그림의 제목(한국어로 번역합니다)을 알려줍니다.\n",
        "\n",
        "대화를 마무리할 때는 그림에 대한 감상을 간단히 요약하고(이때, 질문을 해서는 안 됩니다), \"종료를 위해 종료 버튼을 눌러주세요\" 라고 말합니다.\n",
        "\n",
        "사용자가 그림을 깊이 감상하고 이해하기 위한 대화를 합니다. assistant가 먼저 많은 정보를 알려주어서는 안 됩니다. 답변 시 말하는 정보는 프롬프트의 Context을 토대로 합니다.\n",
        "\n",
        "중요: 각 대화 턴에는 오직 하나의 질문만을 제시합니다. 여러 질문을 포함하거나 연속으로 질문하지 않습니다.\n",
        "\n",
        "중요: 짧고 간결한 질문과 답변을 제공하도록 합니다.\n",
        "\n",
        "불필요한 부사나 형용사의 사용을 줄이고, 간단하고 명료한 문장 구조를 사용합니다. 예를 들어, \"그림에서 느낀 감정을 말해보세요.\" 보다는 \"이 그림을 보고 무슨 느낌이 들었나요?\" 같은 직접적이고 간단한 표현을 사용합니다.\n",
        "\n",
        "어려운 어휘는 쉬운 단어로 바꾸어 말합니다. 학생이 단어의 의미에 대해 질문하면, 그에 대한 답변을 합니다. 이때 추가적인 질문은 하지 않습니다.\n",
        "\n",
        "중요: 학생의 답변 길이와 최대한 비슷한 길이로 답변하세요.\n",
        "\n",
        "-—질문 조건--\n",
        "\n",
        "질문의 개수 : 최대 6개\n",
        "\n",
        "[대화 학습 단계]에 따라 작품 감상을 유도합니다.\n",
        "\n",
        "각 단계는 이어지도록 구성되어야 하며, 단계마다 목적에 맞는 질문을 합니다.\n",
        "\n",
        "질문은 하나 이상의 단계를 포함해서는 안 됩니다.\n",
        "\n",
        "질문 시 단계를 이야기해서는 안 됩니다.\n",
        "\n",
        "중요: 질문은 하나씩 해야 합니다. 한 번의 대화 턴에 여러 질문을 제시하지 않습니다.\n",
        "\n",
        "중요: 말꼬리를 잡으며 비슷한 질문을 계속하면 안 됩니다. 1~2번 대화가 오갔다면 주제를 전환하세요.\n",
        "\n",
        "중요: 대화를 끝낼 때는 질문하지 마세요.\n",
        "\n",
        "\n",
        "—-반응 조건---\n",
        "\n",
        "학생의 답변에 긍정적으로 반응하고 칭찬합니다.\n",
        "\n",
        "추가적인 질문으로 생각을 더 깊게 파고들도록 유도합니다. 예를 들어, \"왜 그렇게 생각했나요?\" 또는 \"그 생각을 하게 된 계기가 무엇인가요?\" 단, 추가적인 질문은 최대 1번만 합니다.\n",
        "\n",
        "[대화 학습 단계]\n",
        "\n",
        "1단계: 작품을 자세히 관찰하고, 그 속에서 무엇을 발견했는지 공유하게 합니다. 그림에 그려진 사람, 사물, 배경, 색감, 분위기 등, 보이는 것을 자유롭게 이야기합니다.\n",
        "\n",
        "2단계: 작품에서 느낀 감정이나 생각을 언어로 표현하도록 유도합니다.\n",
        "\n",
        "3단계: 작품의 의미에 대한 해석을 하도록 유도합니다. 여러 해석을 제시하여 학생들이 자신의 생각과 비교해보도록 합니다.\n",
        "\n",
        "4단계: 1~3단계에서 수행한 감상을 토대로, 학생이 표현하고 싶은 그림을 떠올려볼 수 있도록 유도합니다.\n",
        "\n",
        "\"\"\"\n",
        "\n",
        "# 수정된 프롬프트 템플릿 생성\n",
        "from langchain.prompts import PromptTemplate\n",
        "\n",
        "custom_prompt = PromptTemplate(\n",
        "    input_variables=[\"context\"],\n",
        "    template=custom_prompt_template\n",
        ")\n",
        "\n",
        "# 수정된 프롬프트 출력\n",
        "print(custom_prompt)"
      ],
      "metadata": {
        "id": "lDVT-P5HRySg"
      },
      "execution_count": null,
      "outputs": []
    },
    {
      "cell_type": "markdown",
      "source": [
        "(5) ChatOpenAI() 모델로 언어 모델 설정하기"
      ],
      "metadata": {
        "id": "OTcUt1_sSWqs"
      }
    },
    {
      "cell_type": "code",
      "source": [
        "# LLM model\n",
        "from langchain.chains import RetrievalQA\n",
        "from langchain.chat_models import ChatOpenAI\n",
        "\n",
        "model = ChatOpenAI(model_name=\"gpt-3.5-turbo\", temperature=0)\n",
        "#model  = ChatOpenAI(model_name=\"gpt-4\", temperature=0)"
      ],
      "metadata": {
        "id": "vkcIJlsoRy7L"
      },
      "execution_count": null,
      "outputs": []
    },
    {
      "cell_type": "markdown",
      "source": [
        "(6) Retrieval 설정하기"
      ],
      "metadata": {
        "id": "yuWvzo_ZSZcT"
      }
    },
    {
      "cell_type": "code",
      "source": [
        "# Create the retriever and the query-interface.\n",
        "retriever = vectorstore.as_retriever(\n",
        "    search_type=\"similarity\", # Cosine Similarity\n",
        "    #search_type=\"mmr\",\n",
        "    search_kwargs={\n",
        "        \"k\": 3, # Select top k search results\n",
        "    }\n",
        ")\n",
        "\n",
        "# Create the chain for allowing us to chat with the document.\n",
        "qa_chain = RetrievalQA.from_chain_type(\n",
        "    llm = model,\n",
        "    retriever = vectorstore.as_retriever(),\n",
        "    chain_type_kwargs={\"prompt\": custom_prompt}\n",
        ")\n",
        "\n",
        "\n",
        "question  =\"반고흐의 the bedroom에서 초록색 창문은 무슨 의미야?\"\n",
        "result = qa_chain.invoke({\"query\": question})\n",
        "\n",
        "result[\"result\"]"
      ],
      "metadata": {
        "id": "UFPZZQqgR1ax"
      },
      "execution_count": null,
      "outputs": []
    },
    {
      "cell_type": "markdown",
      "source": [
        "(7) 대화 기억과 외부 문서 함께 참조하기"
      ],
      "metadata": {
        "id": "ViwqFHwhR4ZB"
      }
    },
    {
      "cell_type": "code",
      "source": [
        "from langchain.chains import create_history_aware_retriever\n",
        "from langchain_core.prompts import ChatPromptTemplate, MessagesPlaceholder\n",
        "\n",
        "contextualize_q_system_prompt = \"\"\"Given a chat history and the latest user question \\\n",
        "which might reference context in the chat history, formulate a standalone question \\\n",
        "which can be understood without the chat history. Do NOT answer the question, \\\n",
        "just reformulate it if needed and otherwise return it as is.\"\"\"\n",
        "contextualize_q_prompt = ChatPromptTemplate.from_messages(\n",
        "    [\n",
        "        (\"system\", contextualize_q_system_prompt),\n",
        "        MessagesPlaceholder(\"chat_history\"),\n",
        "        (\"human\", \"{input}\"),\n",
        "    ]\n",
        ")\n",
        "history_aware_retriever = create_history_aware_retriever(\n",
        "    model, retriever, contextualize_q_prompt\n",
        ")"
      ],
      "metadata": {
        "id": "9yLMKoE_R356"
      },
      "execution_count": null,
      "outputs": []
    },
    {
      "cell_type": "code",
      "source": [
        "from langchain.chains import create_retrieval_chain\n",
        "from langchain.chains.combine_documents import create_stuff_documents_chain\n",
        "\n",
        "\n",
        "qa_prompt = ChatPromptTemplate.from_messages(\n",
        "    [\n",
        "        (\"system\", custom_prompt_template),\n",
        "        MessagesPlaceholder(\"chat_history\"),\n",
        "        (\"human\", \"{input}\"),\n",
        "    ]\n",
        ")\n",
        "\n",
        "question_answer_chain = create_stuff_documents_chain(model, qa_prompt)\n",
        "\n",
        "rag_chain = create_retrieval_chain(history_aware_retriever, question_answer_chain)"
      ],
      "metadata": {
        "id": "YZW_GP6YSA8j"
      },
      "execution_count": null,
      "outputs": []
    },
    {
      "cell_type": "markdown",
      "source": [
        "실행!"
      ],
      "metadata": {
        "id": "w3gCpKD-SEbb"
      }
    },
    {
      "cell_type": "code",
      "source": [
        "from langchain_core.messages import HumanMessage\n",
        "\n",
        "# Initialize chat history\n",
        "chat_history = []\n",
        "\n",
        "while True:\n",
        "    # Get the question from the user\n",
        "    question = input(\"나 : \")\n",
        "\n",
        "    # Check if the user wants to exit\n",
        "    if question.lower() == '종료':\n",
        "        break\n",
        "\n",
        "    # Invoke the rag_chain to get a result\n",
        "    result = rag_chain.invoke({\"input\": question, \"chat_history\": chat_history})\n",
        "\n",
        "    # Update chat history with the human message and the AI's response\n",
        "    chat_history.extend([HumanMessage(content=question), result[\"answer\"]])\n",
        "\n",
        "    # Print the AI's response\n",
        "    print(result[\"answer\"])"
      ],
      "metadata": {
        "id": "7ylv0Wu6SDr4"
      },
      "execution_count": null,
      "outputs": []
    }
  ]
}